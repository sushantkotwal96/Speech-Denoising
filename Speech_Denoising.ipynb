{
 "cells": [
  {
   "cell_type": "markdown",
   "source": [
    "# Importing the necessary libraries"
   ],
   "metadata": {
    "collapsed": false
   },
   "id": "954da42eb50898af"
  },
  {
   "cell_type": "code",
   "outputs": [
    {
     "name": "stdout",
     "output_type": "stream",
     "text": [
      "Requirement already satisfied: librosa in /Users/sushantkotwal96/miniconda3/lib/python3.11/site-packages (0.10.1)\r\n",
      "Requirement already satisfied: audioread>=2.1.9 in /Users/sushantkotwal96/miniconda3/lib/python3.11/site-packages (from librosa) (3.0.1)\r\n",
      "Requirement already satisfied: numpy!=1.22.0,!=1.22.1,!=1.22.2,>=1.20.3 in /Users/sushantkotwal96/miniconda3/lib/python3.11/site-packages (from librosa) (1.26.3)\r\n",
      "Requirement already satisfied: scipy>=1.2.0 in /Users/sushantkotwal96/miniconda3/lib/python3.11/site-packages (from librosa) (1.12.0)\r\n",
      "Requirement already satisfied: scikit-learn>=0.20.0 in /Users/sushantkotwal96/miniconda3/lib/python3.11/site-packages (from librosa) (1.4.0)\r\n",
      "Requirement already satisfied: joblib>=0.14 in /Users/sushantkotwal96/miniconda3/lib/python3.11/site-packages (from librosa) (1.3.2)\r\n",
      "Requirement already satisfied: decorator>=4.3.0 in /Users/sushantkotwal96/miniconda3/lib/python3.11/site-packages (from librosa) (5.1.1)\r\n",
      "Requirement already satisfied: numba>=0.51.0 in /Users/sushantkotwal96/miniconda3/lib/python3.11/site-packages (from librosa) (0.59.0)\r\n",
      "Requirement already satisfied: soundfile>=0.12.1 in /Users/sushantkotwal96/miniconda3/lib/python3.11/site-packages (from librosa) (0.12.1)\r\n",
      "Requirement already satisfied: pooch>=1.0 in /Users/sushantkotwal96/miniconda3/lib/python3.11/site-packages (from librosa) (1.8.0)\r\n",
      "Requirement already satisfied: soxr>=0.3.2 in /Users/sushantkotwal96/miniconda3/lib/python3.11/site-packages (from librosa) (0.3.7)\r\n",
      "Requirement already satisfied: typing-extensions>=4.1.1 in /Users/sushantkotwal96/miniconda3/lib/python3.11/site-packages (from librosa) (4.7.1)\r\n",
      "Requirement already satisfied: lazy-loader>=0.1 in /Users/sushantkotwal96/miniconda3/lib/python3.11/site-packages (from librosa) (0.3)\r\n",
      "Requirement already satisfied: msgpack>=1.0 in /Users/sushantkotwal96/miniconda3/lib/python3.11/site-packages (from librosa) (1.0.7)\r\n",
      "Requirement already satisfied: llvmlite<0.43,>=0.42.0dev0 in /Users/sushantkotwal96/miniconda3/lib/python3.11/site-packages (from numba>=0.51.0->librosa) (0.42.0)\r\n",
      "Requirement already satisfied: platformdirs>=2.5.0 in /Users/sushantkotwal96/miniconda3/lib/python3.11/site-packages (from pooch>=1.0->librosa) (2.5.2)\r\n",
      "Requirement already satisfied: packaging>=20.0 in /Users/sushantkotwal96/miniconda3/lib/python3.11/site-packages (from pooch>=1.0->librosa) (23.0)\r\n",
      "Requirement already satisfied: requests>=2.19.0 in /Users/sushantkotwal96/miniconda3/lib/python3.11/site-packages (from pooch>=1.0->librosa) (2.29.0)\r\n",
      "Requirement already satisfied: threadpoolctl>=2.0.0 in /Users/sushantkotwal96/miniconda3/lib/python3.11/site-packages (from scikit-learn>=0.20.0->librosa) (3.2.0)\r\n",
      "Requirement already satisfied: cffi>=1.0 in /Users/sushantkotwal96/miniconda3/lib/python3.11/site-packages (from soundfile>=0.12.1->librosa) (1.15.1)\r\n",
      "Requirement already satisfied: pycparser in /Users/sushantkotwal96/miniconda3/lib/python3.11/site-packages (from cffi>=1.0->soundfile>=0.12.1->librosa) (2.21)\r\n",
      "Requirement already satisfied: charset-normalizer<4,>=2 in /Users/sushantkotwal96/miniconda3/lib/python3.11/site-packages (from requests>=2.19.0->pooch>=1.0->librosa) (2.0.4)\r\n",
      "Requirement already satisfied: idna<4,>=2.5 in /Users/sushantkotwal96/miniconda3/lib/python3.11/site-packages (from requests>=2.19.0->pooch>=1.0->librosa) (3.4)\r\n",
      "Requirement already satisfied: urllib3<1.27,>=1.21.1 in /Users/sushantkotwal96/miniconda3/lib/python3.11/site-packages (from requests>=2.19.0->pooch>=1.0->librosa) (1.26.16)\r\n",
      "Requirement already satisfied: certifi>=2017.4.17 in /Users/sushantkotwal96/miniconda3/lib/python3.11/site-packages (from requests>=2.19.0->pooch>=1.0->librosa) (2023.7.22)\r\n"
     ]
    }
   ],
   "source": [
    "!pip install librosa"
   ],
   "metadata": {
    "collapsed": false,
    "ExecuteTime": {
     "end_time": "2024-02-07T22:52:22.296346Z",
     "start_time": "2024-02-07T22:52:20.204807Z"
    }
   },
   "id": "d9133ed546de9d87",
   "execution_count": 2
  },
  {
   "cell_type": "code",
   "outputs": [
    {
     "name": "stdout",
     "output_type": "stream",
     "text": [
      "Requirement already satisfied: seaborn in /Users/sushantkotwal96/miniconda3/lib/python3.11/site-packages (0.13.2)\r\n",
      "Requirement already satisfied: numpy!=1.24.0,>=1.20 in /Users/sushantkotwal96/miniconda3/lib/python3.11/site-packages (from seaborn) (1.26.3)\r\n",
      "Requirement already satisfied: pandas>=1.2 in /Users/sushantkotwal96/miniconda3/lib/python3.11/site-packages (from seaborn) (2.2.0)\r\n",
      "Requirement already satisfied: matplotlib!=3.6.1,>=3.4 in /Users/sushantkotwal96/miniconda3/lib/python3.11/site-packages (from seaborn) (3.8.2)\r\n",
      "Requirement already satisfied: contourpy>=1.0.1 in /Users/sushantkotwal96/miniconda3/lib/python3.11/site-packages (from matplotlib!=3.6.1,>=3.4->seaborn) (1.2.0)\r\n",
      "Requirement already satisfied: cycler>=0.10 in /Users/sushantkotwal96/miniconda3/lib/python3.11/site-packages (from matplotlib!=3.6.1,>=3.4->seaborn) (0.12.1)\r\n",
      "Requirement already satisfied: fonttools>=4.22.0 in /Users/sushantkotwal96/miniconda3/lib/python3.11/site-packages (from matplotlib!=3.6.1,>=3.4->seaborn) (4.47.2)\r\n",
      "Requirement already satisfied: kiwisolver>=1.3.1 in /Users/sushantkotwal96/miniconda3/lib/python3.11/site-packages (from matplotlib!=3.6.1,>=3.4->seaborn) (1.4.5)\r\n",
      "Requirement already satisfied: packaging>=20.0 in /Users/sushantkotwal96/miniconda3/lib/python3.11/site-packages (from matplotlib!=3.6.1,>=3.4->seaborn) (23.0)\r\n",
      "Requirement already satisfied: pillow>=8 in /Users/sushantkotwal96/miniconda3/lib/python3.11/site-packages (from matplotlib!=3.6.1,>=3.4->seaborn) (10.2.0)\r\n",
      "Requirement already satisfied: pyparsing>=2.3.1 in /Users/sushantkotwal96/miniconda3/lib/python3.11/site-packages (from matplotlib!=3.6.1,>=3.4->seaborn) (3.1.1)\r\n",
      "Requirement already satisfied: python-dateutil>=2.7 in /Users/sushantkotwal96/miniconda3/lib/python3.11/site-packages (from matplotlib!=3.6.1,>=3.4->seaborn) (2.8.2)\r\n",
      "Requirement already satisfied: pytz>=2020.1 in /Users/sushantkotwal96/miniconda3/lib/python3.11/site-packages (from pandas>=1.2->seaborn) (2022.7)\r\n",
      "Requirement already satisfied: tzdata>=2022.7 in /Users/sushantkotwal96/miniconda3/lib/python3.11/site-packages (from pandas>=1.2->seaborn) (2023.4)\r\n",
      "Requirement already satisfied: six>=1.5 in /Users/sushantkotwal96/miniconda3/lib/python3.11/site-packages (from python-dateutil>=2.7->matplotlib!=3.6.1,>=3.4->seaborn) (1.16.0)\r\n"
     ]
    }
   ],
   "source": [
    "!pip install seaborn"
   ],
   "metadata": {
    "collapsed": false,
    "ExecuteTime": {
     "end_time": "2024-02-07T22:52:24.576028Z",
     "start_time": "2024-02-07T22:52:23.284388Z"
    }
   },
   "id": "cf327d2e2bfe801a",
   "execution_count": 3
  },
  {
   "cell_type": "code",
   "outputs": [],
   "source": [
    "import librosa\n",
    "import librosa.display\n",
    "import matplotlib.pyplot as plt\n",
    "import seaborn as sns\n",
    "import numpy as np\n",
    "import pandas as pd\n",
    "import tensorflow as tf\n",
    "import soundfile as sf\n",
    "from IPython.display import Audio"
   ],
   "metadata": {
    "collapsed": false,
    "ExecuteTime": {
     "end_time": "2024-02-07T23:26:10.578655Z",
     "start_time": "2024-02-07T23:26:10.575854Z"
    }
   },
   "id": "d78060862a9eb70e",
   "execution_count": 5
  },
  {
   "cell_type": "code",
   "outputs": [
    {
     "name": "stdout",
     "output_type": "stream",
     "text": [
      "2.15.0\n"
     ]
    }
   ],
   "source": [
    "print(tf.__version__)"
   ],
   "metadata": {
    "collapsed": false,
    "ExecuteTime": {
     "end_time": "2024-02-07T23:34:54.007441Z",
     "start_time": "2024-02-07T23:34:53.997279Z"
    }
   },
   "id": "65ede205bc1644b8",
   "execution_count": 6
  },
  {
   "cell_type": "code",
   "outputs": [],
   "source": [],
   "metadata": {
    "collapsed": false
   },
   "id": "c792f9f59b704cd5"
  }
 ],
 "metadata": {
  "kernelspec": {
   "name": "python3",
   "language": "python",
   "display_name": "Python 3 (ipykernel)"
  },
  "language_info": {
   "codemirror_mode": {
    "name": "ipython",
    "version": 2
   },
   "file_extension": ".py",
   "mimetype": "text/x-python",
   "name": "python",
   "nbconvert_exporter": "python",
   "pygments_lexer": "ipython2",
   "version": "2.7.6"
  }
 },
 "nbformat": 4,
 "nbformat_minor": 5
}
